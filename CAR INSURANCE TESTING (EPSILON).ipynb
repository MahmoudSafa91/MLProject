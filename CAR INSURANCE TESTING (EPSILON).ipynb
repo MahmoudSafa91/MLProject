{
 "cells": [
  {
   "cell_type": "code",
   "execution_count": 1,
   "id": "6eb3a4aa",
   "metadata": {},
   "outputs": [],
   "source": [
    "import numpy as np\n",
    "import pandas as pd\n",
    "import joblib"
   ]
  },
  {
   "cell_type": "code",
   "execution_count": 2,
   "id": "df8d2b9a",
   "metadata": {},
   "outputs": [],
   "source": [
    "def preprocess_age (AGE):\n",
    "        if AGE in range (16,25):\n",
    "            return [0,0,0]\n",
    "        elif AGE in range (26,39):\n",
    "            return [1,0,0]\n",
    "        elif AGE in range (40,64):\n",
    "            return [0,1,0]\n",
    "        else:\n",
    "            return [0,0,1]\n",
    "        \n",
    "        \n",
    "def preprocess_experience (DRIVING_EXPERIENCE):\n",
    "    if DRIVING_EXPERIENCE in range (0,9):\n",
    "        return [0,0,0]\n",
    "    elif DRIVING_EXPERIENCE in range (10,19):\n",
    "        return [1,0,0]\n",
    "    elif DRIVING_EXPERIENCE in range (20,29):\n",
    "        return [0,1,0]\n",
    "    else:\n",
    "        return [0,0,1]\n",
    "    \n",
    "    \n",
    "def preprocess_education (EDUCATION):\n",
    "    if EDUCATION.lower == 'none':\n",
    "        return [1,0]\n",
    "    elif EDUCATION.lower == 'university':\n",
    "        return [0,1]\n",
    "    else:\n",
    "        return [0,0]\n",
    "    \n",
    "def preprocess_income(INCOME):\n",
    "    if  INCOME. lower == 'poverty':\n",
    "        return [1,0,0]\n",
    "    elif INCOME. lower == 'upper class':\n",
    "        return [0,1,0]\n",
    "    elif INCOME. lower == ' working class ':\n",
    "        return [0,0,1]\n",
    "    else:\n",
    "        return [0,0,0]\n",
    "    "
   ]
  },
  {
   "cell_type": "code",
   "execution_count": 3,
   "id": "9b894642",
   "metadata": {},
   "outputs": [],
   "source": [
    "def preprocess_data(data):\n",
    "    \n",
    "    CREDIT_SCORE = data ['score']\n",
    "    VEHICLE_OWNERSHIP = data ['ownership']\n",
    "    ANNUAL_MILEAGE = data ['mileage']\n",
    "    SPEEDING_VIOLATIONS = data ['violations']\n",
    "    PAST_ACCIDENTS = data ['accidents']\n",
    "    \n",
    "    AGE = preprocess_age(data['AGE'])\n",
    "    DRIVING_EXPERIENCE = preprocess_experience(data['DRIVING_EXPERIENCE'])\n",
    "    EDUCATION =  preprocess_education(data['EDUCATION'])\n",
    "    INCOME = preprocess_income (data['INCOME'])\n",
    "    final_data = [ CREDIT_SCORE, VEHICLE_OWNERSHIP, ANNUAL_MILEAGE, SPEEDING_VIOLATIONS, PAST_ACCIDENTS]+ AGE + DRIVING_EXPERIENCE + EDUCATION + INCOME  \n",
    "    return final_data "
   ]
  },
  {
   "cell_type": "code",
   "execution_count": 4,
   "id": "76b021da",
   "metadata": {},
   "outputs": [],
   "source": [
    "data = {'score':0.493146,'ownership': 1, 'mileage' : 16000, 'violations' : 2, 'accidents' : 1, 'AGE' : 33, 'DRIVING_EXPERIENCE' : 11, 'EDUCATION' : 'none', 'INCOME' : 'poverty'}\n"
   ]
  },
  {
   "cell_type": "code",
   "execution_count": 5,
   "id": "c2b20d65",
   "metadata": {},
   "outputs": [
    {
     "data": {
      "text/plain": [
       "[0.493146, 1, 16000, 2, 1, 1, 0, 0, 1, 0, 0, 0, 0, 0, 0, 0]"
      ]
     },
     "execution_count": 5,
     "metadata": {},
     "output_type": "execute_result"
    }
   ],
   "source": [
    "final_data = preprocess_data(data)\n",
    "final_data"
   ]
  },
  {
   "cell_type": "code",
   "execution_count": 6,
   "id": "50c2e5ba",
   "metadata": {},
   "outputs": [],
   "source": [
    "model = joblib.load('model.h5')\n",
    "scaler = joblib.load('scaler.h5')"
   ]
  },
  {
   "cell_type": "code",
   "execution_count": 7,
   "id": "ba18c130",
   "metadata": {},
   "outputs": [
    {
     "data": {
      "text/plain": [
       "array([[-0.17462311,  0.65777257,  1.61298773,  0.23228581, -0.03816144,\n",
       "         1.51893111, -0.64337173, -0.49882785,  1.44279732, -0.51868635,\n",
       "        -0.34411024, -0.48707387, -0.80886323, -0.4760437 , -0.87967944,\n",
       "        -0.45156696]])"
      ]
     },
     "execution_count": 7,
     "metadata": {},
     "output_type": "execute_result"
    }
   ],
   "source": [
    "final_data = scaler.transform([final_data])\n",
    "final_data"
   ]
  },
  {
   "cell_type": "code",
   "execution_count": 12,
   "id": "11fd5190",
   "metadata": {},
   "outputs": [
    {
     "data": {
      "text/plain": [
       "0"
      ]
     },
     "execution_count": 12,
     "metadata": {},
     "output_type": "execute_result"
    }
   ],
   "source": [
    "int(model.predict(final_data)[0])"
   ]
  }
 ],
 "metadata": {
  "kernelspec": {
   "display_name": "Python 3",
   "language": "python",
   "name": "python3"
  },
  "language_info": {
   "codemirror_mode": {
    "name": "ipython",
    "version": 3
   },
   "file_extension": ".py",
   "mimetype": "text/x-python",
   "name": "python",
   "nbconvert_exporter": "python",
   "pygments_lexer": "ipython3",
   "version": "3.8.8"
  }
 },
 "nbformat": 4,
 "nbformat_minor": 5
}
